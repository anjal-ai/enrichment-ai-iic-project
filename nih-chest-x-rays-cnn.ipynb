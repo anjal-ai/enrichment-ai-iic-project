{
 "cells": [
  {
   "cell_type": "code",
   "execution_count": 1,
   "id": "3bb7aba3",
   "metadata": {
    "execution": {
     "iopub.execute_input": "2025-07-22T16:39:17.266002Z",
     "iopub.status.busy": "2025-07-22T16:39:17.265624Z",
     "iopub.status.idle": "2025-07-22T16:39:28.840472Z",
     "shell.execute_reply": "2025-07-22T16:39:28.839661Z"
    },
    "papermill": {
     "duration": 11.580743,
     "end_time": "2025-07-22T16:39:28.842011",
     "exception": false,
     "start_time": "2025-07-22T16:39:17.261268",
     "status": "completed"
    },
    "tags": []
   },
   "outputs": [],
   "source": [
    "import os\n",
    "import time\n",
    "\n",
    "import pandas as pd\n",
    "import numpy as np\n",
    "\n",
    "from sklearn.preprocessing import MultiLabelBinarizer\n",
    "from sklearn.model_selection import train_test_split\n",
    "\n",
    "from torchvision import transforms\n",
    "import torch\n",
    "from torch.utils.data import Dataset, DataLoader, random_split\n",
    "from PIL import Image\n",
    "import torch.nn as nn\n",
    "import torch.nn.functional as F\n",
    "import torch.optim as optim\n",
    "from torchinfo import summary\n",
    "\n",
    "import warnings\n",
    "warnings.filterwarnings('ignore')"
   ]
  },
  {
   "cell_type": "code",
   "execution_count": 2,
   "id": "a327eeb5",
   "metadata": {
    "execution": {
     "iopub.execute_input": "2025-07-22T16:39:28.848898Z",
     "iopub.status.busy": "2025-07-22T16:39:28.848235Z",
     "iopub.status.idle": "2025-07-22T16:39:28.933894Z",
     "shell.execute_reply": "2025-07-22T16:39:28.933062Z"
    },
    "papermill": {
     "duration": 0.090272,
     "end_time": "2025-07-22T16:39:28.935278",
     "exception": false,
     "start_time": "2025-07-22T16:39:28.845006",
     "status": "completed"
    },
    "tags": []
   },
   "outputs": [
    {
     "name": "stdout",
     "output_type": "stream",
     "text": [
      "Using device: cuda\n"
     ]
    }
   ],
   "source": [
    "device = torch.device(\"cuda\" if torch.cuda.is_available() else \"cpu\")\n",
    "print(\"Using device:\", device)"
   ]
  },
  {
   "cell_type": "code",
   "execution_count": 3,
   "id": "9ce87fcb",
   "metadata": {
    "_cell_guid": "b1076dfc-b9ad-4769-8c92-a6c4dae69d19",
    "_uuid": "8f2839f25d086af736a60e9eeb907d3b93b6e0e5",
    "execution": {
     "iopub.execute_input": "2025-07-22T16:39:28.941741Z",
     "iopub.status.busy": "2025-07-22T16:39:28.941507Z",
     "iopub.status.idle": "2025-07-22T16:39:30.085950Z",
     "shell.execute_reply": "2025-07-22T16:39:30.085093Z"
    },
    "papermill": {
     "duration": 1.149233,
     "end_time": "2025-07-22T16:39:30.087455",
     "exception": false,
     "start_time": "2025-07-22T16:39:28.938222",
     "status": "completed"
    },
    "tags": []
   },
   "outputs": [],
   "source": [
    "def build_image_path_map(image_root):\n",
    "    image_path_map = {}\n",
    "    for folder in os.listdir(image_root):\n",
    "        subfolder = os.path.join(image_root, folder, \"images\")\n",
    "        if not os.path.isdir(subfolder):\n",
    "            continue\n",
    "        for img_file in os.listdir(subfolder):\n",
    "            if img_file.endswith(\".png\"):\n",
    "                full_path = os.path.join(subfolder, img_file)\n",
    "                image_path_map[img_file] = full_path\n",
    "    return image_path_map\n",
    "\n",
    "# Example\n",
    "image_root = \"/kaggle/input/data/\"\n",
    "image_path_map = build_image_path_map(image_root)"
   ]
  },
  {
   "cell_type": "code",
   "execution_count": 4,
   "id": "486e04ca",
   "metadata": {
    "execution": {
     "iopub.execute_input": "2025-07-22T16:39:30.096691Z",
     "iopub.status.busy": "2025-07-22T16:39:30.095985Z",
     "iopub.status.idle": "2025-07-22T16:39:30.993691Z",
     "shell.execute_reply": "2025-07-22T16:39:30.992818Z"
    },
    "papermill": {
     "duration": 0.903011,
     "end_time": "2025-07-22T16:39:30.995378",
     "exception": false,
     "start_time": "2025-07-22T16:39:30.092367",
     "status": "completed"
    },
    "tags": []
   },
   "outputs": [],
   "source": [
    "df = pd.read_csv(\"/kaggle/input/data/Data_Entry_2017.csv\")\n",
    "df['Finding Labels'] = df['Finding Labels'].str.split('|')\n",
    "\n",
    "mlb = MultiLabelBinarizer()\n",
    "df['labels'] = mlb.fit_transform(df['Finding Labels']).tolist()"
   ]
  },
  {
   "cell_type": "code",
   "execution_count": 5,
   "id": "93d54979",
   "metadata": {
    "execution": {
     "iopub.execute_input": "2025-07-22T16:39:31.002134Z",
     "iopub.status.busy": "2025-07-22T16:39:31.001536Z",
     "iopub.status.idle": "2025-07-22T16:39:31.056246Z",
     "shell.execute_reply": "2025-07-22T16:39:31.055614Z"
    },
    "papermill": {
     "duration": 0.059447,
     "end_time": "2025-07-22T16:39:31.057686",
     "exception": false,
     "start_time": "2025-07-22T16:39:30.998239",
     "status": "completed"
    },
    "tags": []
   },
   "outputs": [],
   "source": [
    "df['Patient Gender'] = df['Patient Gender'].map({'M': 0, 'F': 1})\n",
    "df['View Position'] = df['View Position'].map({'PA': 0, 'AP': 1})\n",
    "\n",
    "df['patient_data'] = df[['Patient Age', 'Patient Gender', 'View Position']].values.tolist()"
   ]
  },
  {
   "cell_type": "code",
   "execution_count": 6,
   "id": "c63d6e4c",
   "metadata": {
    "execution": {
     "iopub.execute_input": "2025-07-22T16:39:31.064055Z",
     "iopub.status.busy": "2025-07-22T16:39:31.063762Z",
     "iopub.status.idle": "2025-07-22T16:39:31.068090Z",
     "shell.execute_reply": "2025-07-22T16:39:31.067322Z"
    },
    "papermill": {
     "duration": 0.008707,
     "end_time": "2025-07-22T16:39:31.069234",
     "exception": false,
     "start_time": "2025-07-22T16:39:31.060527",
     "status": "completed"
    },
    "tags": []
   },
   "outputs": [],
   "source": [
    "transform = transforms.Compose([\n",
    "    transforms.Resize((224, 224)),\n",
    "    transforms.ToTensor(),\n",
    "    transforms.Normalize(mean=[0.5172546, 0.5172546, 0.5172546],\n",
    "                         std=[0.23124999, 0.23124999, 0.23124999])\n",
    "])"
   ]
  },
  {
   "cell_type": "code",
   "execution_count": 7,
   "id": "c89a49c4",
   "metadata": {
    "execution": {
     "iopub.execute_input": "2025-07-22T16:39:31.074761Z",
     "iopub.status.busy": "2025-07-22T16:39:31.074554Z",
     "iopub.status.idle": "2025-07-22T16:39:31.080242Z",
     "shell.execute_reply": "2025-07-22T16:39:31.079558Z"
    },
    "papermill": {
     "duration": 0.009698,
     "end_time": "2025-07-22T16:39:31.081375",
     "exception": false,
     "start_time": "2025-07-22T16:39:31.071677",
     "status": "completed"
    },
    "tags": []
   },
   "outputs": [],
   "source": [
    "class ChestXrayWithMetaDataset(Dataset):\n",
    "    def __init__(self, dataframe, image_path_map, transform=None):\n",
    "        self.df = dataframe.reset_index(drop=True)\n",
    "        self.image_path_map = image_path_map\n",
    "        self.transform = transform\n",
    "\n",
    "    def __len__(self):\n",
    "        return len(self.df)\n",
    "\n",
    "    def __getitem__(self, idx):\n",
    "        row = self.df.iloc[idx]\n",
    "\n",
    "        # Image\n",
    "        img_name = row['Image Index']\n",
    "        img_path = self.image_path_map.get(img_name)\n",
    "        if not os.path.exists(img_path):\n",
    "            raise FileNotFoundError(f\"Image {img_name} not found.\")\n",
    "        \n",
    "        image = Image.open(img_path).convert(\"RGB\")\n",
    "        if self.transform:\n",
    "            image = self.transform(image)\n",
    "\n",
    "        # Labels\n",
    "        labels = torch.tensor(row['labels'], dtype=torch.float32)\n",
    "\n",
    "        # Metadata\n",
    "        metadata = torch.tensor(row['patient_data'], dtype=torch.float32)\n",
    "        metadata[0] = metadata[0] / 100.0  # Normalize age to 0–1\n",
    "\n",
    "        return image, metadata, labels"
   ]
  },
  {
   "cell_type": "code",
   "execution_count": 8,
   "id": "e0571d88",
   "metadata": {
    "execution": {
     "iopub.execute_input": "2025-07-22T16:39:31.087866Z",
     "iopub.status.busy": "2025-07-22T16:39:31.087642Z",
     "iopub.status.idle": "2025-07-22T16:39:31.186070Z",
     "shell.execute_reply": "2025-07-22T16:39:31.185380Z"
    },
    "papermill": {
     "duration": 0.103658,
     "end_time": "2025-07-22T16:39:31.187493",
     "exception": false,
     "start_time": "2025-07-22T16:39:31.083835",
     "status": "completed"
    },
    "tags": []
   },
   "outputs": [],
   "source": [
    "train_df, test_df = train_test_split(df, test_size=0.2, random_state=42)\n",
    "\n",
    "train_dataset = ChestXrayWithMetaDataset(train_df, image_path_map, transform=transform)\n",
    "test_dataset = ChestXrayWithMetaDataset(test_df, image_path_map, transform=transform)\n",
    "\n",
    "train_loader = DataLoader(train_dataset, batch_size=32, shuffle=True, pin_memory=True, num_workers=2)\n",
    "test_loader = DataLoader(test_dataset, batch_size=32, pin_memory=True, num_workers=2)"
   ]
  },
  {
   "cell_type": "code",
   "execution_count": 9,
   "id": "c2305fc4",
   "metadata": {
    "execution": {
     "iopub.execute_input": "2025-07-22T16:39:31.193587Z",
     "iopub.status.busy": "2025-07-22T16:39:31.193336Z",
     "iopub.status.idle": "2025-07-22T16:39:31.205077Z",
     "shell.execute_reply": "2025-07-22T16:39:31.203815Z"
    },
    "papermill": {
     "duration": 0.016044,
     "end_time": "2025-07-22T16:39:31.206304",
     "exception": false,
     "start_time": "2025-07-22T16:39:31.190260",
     "status": "completed"
    },
    "tags": []
   },
   "outputs": [],
   "source": [
    "subset_size = 5000\n",
    "rest = len(train_dataset) - subset_size\n",
    "\n",
    "subset_dataset, _ = random_split(train_dataset, [subset_size, rest])\n",
    "\n",
    "subset_loader = DataLoader(subset_dataset, batch_size=128, shuffle=True, pin_memory=True, num_workers=2)"
   ]
  },
  {
   "cell_type": "code",
   "execution_count": 10,
   "id": "65788490",
   "metadata": {
    "execution": {
     "iopub.execute_input": "2025-07-22T16:39:31.212436Z",
     "iopub.status.busy": "2025-07-22T16:39:31.211967Z",
     "iopub.status.idle": "2025-07-22T16:39:31.219393Z",
     "shell.execute_reply": "2025-07-22T16:39:31.218801Z"
    },
    "papermill": {
     "duration": 0.011513,
     "end_time": "2025-07-22T16:39:31.220437",
     "exception": false,
     "start_time": "2025-07-22T16:39:31.208924",
     "status": "completed"
    },
    "tags": []
   },
   "outputs": [],
   "source": [
    "class ChestXrayMultiInputCNN(nn.Module):\n",
    "    def __init__(self, num_labels=15):\n",
    "        super().__init__()\n",
    "\n",
    "        # CNN for image\n",
    "        self.image_conv = nn.Sequential(\n",
    "            nn.Conv2d(3, 16, kernel_size=3, padding=1),  # (B, 3, 224, 224) → (B, 16, 224, 224)\n",
    "            nn.ReLU(),\n",
    "            nn.MaxPool2d(2),                             # (B, 16, 112, 112)\n",
    "            \n",
    "            nn.Conv2d(16, 32, kernel_size=3, padding=1), # (B, 32, 112, 112)\n",
    "            nn.ReLU(),\n",
    "            nn.MaxPool2d(2),                             # (B, 32, 56, 56)\n",
    "            \n",
    "            nn.Conv2d(32, 64, kernel_size=3, padding=1), # (B, 64, 56, 56)\n",
    "            nn.ReLU(),\n",
    "            nn.MaxPool2d(2)                              # (B, 64, 28, 28)\n",
    "        )\n",
    "\n",
    "        self.image_fc = nn.Sequential(\n",
    "            nn.Flatten(),\n",
    "            nn.Linear(64 * 28 * 28, 128),\n",
    "            nn.ReLU()\n",
    "        )\n",
    "\n",
    "        # Small MLP for patient data (3 features)\n",
    "        self.patient_fc = nn.Sequential(\n",
    "            nn.Linear(3, 16),\n",
    "            nn.ReLU()\n",
    "        )\n",
    "\n",
    "        # Combined output\n",
    "        self.classifier = nn.Sequential(\n",
    "            nn.Linear(128 + 16, 64),\n",
    "            nn.ReLU(),\n",
    "            nn.Linear(64, num_labels),\n",
    "            nn.Sigmoid()  # For multi-label classification\n",
    "        )\n",
    "\n",
    "    def forward(self, image, patient_data):\n",
    "        img_feat = self.image_conv(image)\n",
    "        img_feat = self.image_fc(img_feat)\n",
    "\n",
    "        patient_feat = self.patient_fc(patient_data)\n",
    "\n",
    "        combined = torch.cat((img_feat, patient_feat), dim=1)\n",
    "        output = self.classifier(combined)\n",
    "        return output"
   ]
  },
  {
   "cell_type": "code",
   "execution_count": 11,
   "id": "319b89f9",
   "metadata": {
    "execution": {
     "iopub.execute_input": "2025-07-22T16:39:31.226376Z",
     "iopub.status.busy": "2025-07-22T16:39:31.225982Z",
     "iopub.status.idle": "2025-07-22T16:39:31.484748Z",
     "shell.execute_reply": "2025-07-22T16:39:31.484128Z"
    },
    "papermill": {
     "duration": 0.263165,
     "end_time": "2025-07-22T16:39:31.486208",
     "exception": false,
     "start_time": "2025-07-22T16:39:31.223043",
     "status": "completed"
    },
    "tags": []
   },
   "outputs": [],
   "source": [
    "learning_rate = 1e-3\n",
    "epochs = 10\n",
    "\n",
    "model = ChestXrayMultiInputCNN(num_labels=15)\n",
    "model = model.to(device)\n",
    "\n",
    "criterion = nn.BCELoss()  # Since we use sigmoid\n",
    "optimizer = optim.Adam(model.parameters(), lr=learning_rate)"
   ]
  },
  {
   "cell_type": "code",
   "execution_count": 12,
   "id": "0fe76a9a",
   "metadata": {
    "execution": {
     "iopub.execute_input": "2025-07-22T16:39:31.492500Z",
     "iopub.status.busy": "2025-07-22T16:39:31.492048Z",
     "iopub.status.idle": "2025-07-22T16:39:31.498717Z",
     "shell.execute_reply": "2025-07-22T16:39:31.498134Z"
    },
    "papermill": {
     "duration": 0.010984,
     "end_time": "2025-07-22T16:39:31.499887",
     "exception": false,
     "start_time": "2025-07-22T16:39:31.488903",
     "status": "completed"
    },
    "tags": []
   },
   "outputs": [
    {
     "data": {
      "text/plain": [
       "=================================================================\n",
       "Layer (type:depth-idx)                   Param #\n",
       "=================================================================\n",
       "ChestXrayMultiInputCNN                   --\n",
       "├─Sequential: 1-1                        --\n",
       "│    └─Conv2d: 2-1                       448\n",
       "│    └─ReLU: 2-2                         --\n",
       "│    └─MaxPool2d: 2-3                    --\n",
       "│    └─Conv2d: 2-4                       4,640\n",
       "│    └─ReLU: 2-5                         --\n",
       "│    └─MaxPool2d: 2-6                    --\n",
       "│    └─Conv2d: 2-7                       18,496\n",
       "│    └─ReLU: 2-8                         --\n",
       "│    └─MaxPool2d: 2-9                    --\n",
       "├─Sequential: 1-2                        --\n",
       "│    └─Flatten: 2-10                     --\n",
       "│    └─Linear: 2-11                      6,422,656\n",
       "│    └─ReLU: 2-12                        --\n",
       "├─Sequential: 1-3                        --\n",
       "│    └─Linear: 2-13                      64\n",
       "│    └─ReLU: 2-14                        --\n",
       "├─Sequential: 1-4                        --\n",
       "│    └─Linear: 2-15                      9,280\n",
       "│    └─ReLU: 2-16                        --\n",
       "│    └─Linear: 2-17                      975\n",
       "│    └─Sigmoid: 2-18                     --\n",
       "=================================================================\n",
       "Total params: 6,456,559\n",
       "Trainable params: 6,456,559\n",
       "Non-trainable params: 0\n",
       "================================================================="
      ]
     },
     "execution_count": 12,
     "metadata": {},
     "output_type": "execute_result"
    }
   ],
   "source": [
    "summary(model)"
   ]
  },
  {
   "cell_type": "code",
   "execution_count": 13,
   "id": "4a4cf409",
   "metadata": {
    "execution": {
     "iopub.execute_input": "2025-07-22T16:39:31.506321Z",
     "iopub.status.busy": "2025-07-22T16:39:31.505865Z",
     "iopub.status.idle": "2025-07-22T16:49:46.322470Z",
     "shell.execute_reply": "2025-07-22T16:49:46.321536Z"
    },
    "papermill": {
     "duration": 614.824151,
     "end_time": "2025-07-22T16:49:46.326699",
     "exception": false,
     "start_time": "2025-07-22T16:39:31.502548",
     "status": "completed"
    },
    "tags": []
   },
   "outputs": [
    {
     "name": "stdout",
     "output_type": "stream",
     "text": [
      "Epoch [1] Loss: 0.2622  Time: 1.49 minutes\n",
      "Epoch [2] Loss: 0.2116  Time: 0.98 minutes\n",
      "Epoch [3] Loss: 0.2091  Time: 0.98 minutes\n",
      "Epoch [4] Loss: 0.2056  Time: 0.99 minutes\n",
      "Epoch [5] Loss: 0.2050  Time: 0.98 minutes\n",
      "Epoch [6] Loss: 0.2041  Time: 0.97 minutes\n",
      "Epoch [7] Loss: 0.1974  Time: 0.97 minutes\n",
      "Epoch [8] Loss: 0.1934  Time: 0.96 minutes\n",
      "Epoch [9] Loss: 0.1857  Time: 0.95 minutes\n",
      "Epoch [10] Loss: 0.1762  Time: 0.97 minutes\n"
     ]
    }
   ],
   "source": [
    "for epoch in range(epochs):\n",
    "    start_time = time.time()\n",
    "    model.train()\n",
    "    running_loss = 0.0\n",
    "\n",
    "    for batch in subset_loader:\n",
    "        images, patient_data, labels = batch\n",
    "        \n",
    "        images = images.to(device, non_blocking=True)\n",
    "        patient_data = patient_data.to(device, non_blocking=True)\n",
    "        labels = labels.to(device, non_blocking=True)\n",
    "\n",
    "        optimizer.zero_grad()\n",
    "        outputs = model(images, patient_data)\n",
    "\n",
    "        loss = criterion(outputs, labels)\n",
    "        loss.backward()\n",
    "        optimizer.step()\n",
    "\n",
    "        running_loss += loss.item()\n",
    "\n",
    "    epoch_time = time.time() - start_time\n",
    "    epoch_time_min = epoch_time / 60\n",
    "    print(f\"Epoch [{epoch+1}] Loss: {running_loss / len(subset_loader):.4f}  Time: {epoch_time_min:.2f} minutes\")"
   ]
  },
  {
   "cell_type": "code",
   "execution_count": null,
   "id": "b6d4287b",
   "metadata": {
    "papermill": {
     "duration": 0.002719,
     "end_time": "2025-07-22T16:49:46.332374",
     "exception": false,
     "start_time": "2025-07-22T16:49:46.329655",
     "status": "completed"
    },
    "tags": []
   },
   "outputs": [],
   "source": []
  }
 ],
 "metadata": {
  "kaggle": {
   "accelerator": "nvidiaTeslaT4",
   "dataSources": [
    {
     "datasetId": 5839,
     "sourceId": 18613,
     "sourceType": "datasetVersion"
    }
   ],
   "dockerImageVersionId": 31089,
   "isGpuEnabled": true,
   "isInternetEnabled": true,
   "language": "python",
   "sourceType": "notebook"
  },
  "kernelspec": {
   "display_name": "Python 3",
   "language": "python",
   "name": "python3"
  },
  "language_info": {
   "codemirror_mode": {
    "name": "ipython",
    "version": 3
   },
   "file_extension": ".py",
   "mimetype": "text/x-python",
   "name": "python",
   "nbconvert_exporter": "python",
   "pygments_lexer": "ipython3",
   "version": "3.11.13"
  },
  "papermill": {
   "default_parameters": {},
   "duration": 636.0298,
   "end_time": "2025-07-22T16:49:49.604062",
   "environment_variables": {},
   "exception": null,
   "input_path": "__notebook__.ipynb",
   "output_path": "__notebook__.ipynb",
   "parameters": {},
   "start_time": "2025-07-22T16:39:13.574262",
   "version": "2.6.0"
  }
 },
 "nbformat": 4,
 "nbformat_minor": 5
}
